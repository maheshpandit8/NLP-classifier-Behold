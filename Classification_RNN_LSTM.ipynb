{
 "cells": [
  {
   "cell_type": "code",
   "execution_count": 208,
   "metadata": {},
   "outputs": [],
   "source": [
    "import pandas as pd\n",
    "import numpy as np\n",
    "import spacy\n",
    "from keras.preprocessing.sequence import pad_sequences\n",
    "from keras.preprocessing.text import Tokenizer\n",
    "from keras.layers.recurrent import SimpleRNN, LSTM\n",
    "from keras.layers import Flatten, Masking, Dense, Embedding, Input, Reshape\n",
    "from keras.models import Sequential, Model\n",
    "from keras.utils.vis_utils import plot_model\n",
    "from sklearn.model_selection import train_test_split, StratifiedKFold\n",
    "from keras.utils import to_categorical\n",
    "from sklearn.preprocessing import LabelEncoder"
   ]
  },
  {
   "cell_type": "markdown",
   "metadata": {},
   "source": [
    "## Read and preprocess data"
   ]
  },
  {
   "cell_type": "code",
   "execution_count": 3,
   "metadata": {
    "scrolled": true
   },
   "outputs": [
    {
     "name": "stderr",
     "output_type": "stream",
     "text": [
      "/Users/maheshpandit/anaconda3/lib/python3.7/site-packages/IPython/core/interactiveshell.py:3063: DtypeWarning: Columns (13,15,16,17,18,19,20,21) have mixed types.Specify dtype option on import or set low_memory=False.\n",
      "  interactivity=interactivity, compiler=compiler, result=result)\n"
     ]
    }
   ],
   "source": [
    "# Read preprocessed data\n",
    "data = pd.read_csv(\"PreprocessedData.csv\", index_col = 0)"
   ]
  },
  {
   "cell_type": "code",
   "execution_count": 4,
   "metadata": {},
   "outputs": [],
   "source": [
    "# Use labels only for top 30 brands. Use label \"OTHER\" for the rest\n",
    "data[\"label\"] = data.brand.apply(lambda x: x if x in data.brand.value_counts()[:30].keys() else \"OTHER\")"
   ]
  },
  {
   "cell_type": "code",
   "execution_count": 5,
   "metadata": {},
   "outputs": [],
   "source": [
    "#Encode the labels\n",
    "encoder = LabelEncoder()\n",
    "labels = to_categorical(encoder.fit_transform(data.label))"
   ]
  },
  {
   "cell_type": "code",
   "execution_count": 6,
   "metadata": {
    "scrolled": true
   },
   "outputs": [
    {
     "data": {
      "text/html": [
       "<div>\n",
       "<style scoped>\n",
       "    .dataframe tbody tr th:only-of-type {\n",
       "        vertical-align: middle;\n",
       "    }\n",
       "\n",
       "    .dataframe tbody tr th {\n",
       "        vertical-align: top;\n",
       "    }\n",
       "\n",
       "    .dataframe thead th {\n",
       "        text-align: right;\n",
       "    }\n",
       "</style>\n",
       "<table border=\"1\" class=\"dataframe\">\n",
       "  <thead>\n",
       "    <tr style=\"text-align: right;\">\n",
       "      <th></th>\n",
       "      <th>20000</th>\n",
       "      <th>20001</th>\n",
       "      <th>20002</th>\n",
       "      <th>20003</th>\n",
       "      <th>20004</th>\n",
       "      <th>20005</th>\n",
       "      <th>20006</th>\n",
       "      <th>20007</th>\n",
       "      <th>20008</th>\n",
       "      <th>20009</th>\n",
       "    </tr>\n",
       "  </thead>\n",
       "  <tbody>\n",
       "    <tr>\n",
       "      <th>product_id</th>\n",
       "      <td>01EEBGWGXVA6QT2YNKR583WNPM</td>\n",
       "      <td>01EEBGWH0QA1DEVRY8D8WEYQ49</td>\n",
       "      <td>01EEBGWH4FQC26RQ23R8J483T9</td>\n",
       "      <td>01EEBGWRHWR7XMT0SMRZH91R4Q</td>\n",
       "      <td>01EEBGWRN5D75PAHKE8YNZ2P9G</td>\n",
       "      <td>01EEBGWRR3G7WC84JKNHMVGECR</td>\n",
       "      <td>01EEBGWTTV1J3V63G8NE10FSKF</td>\n",
       "      <td>01EEBGWW6AQ2H84WR1VGQPHF1J</td>\n",
       "      <td>01EEBGWXBF4NNC4P3NMVA7D3ZT</td>\n",
       "      <td>01EEBGWYKVVD087V0ZWHJEQM54</td>\n",
       "    </tr>\n",
       "    <tr>\n",
       "      <th>brand</th>\n",
       "      <td>Intentionally Blank</td>\n",
       "      <td>Intentionally Blank</td>\n",
       "      <td>Intentionally Blank</td>\n",
       "      <td>Intentionally Blank</td>\n",
       "      <td>Intentionally Blank</td>\n",
       "      <td>Intentionally Blank</td>\n",
       "      <td>Intentionally Blank</td>\n",
       "      <td>Intentionally Blank</td>\n",
       "      <td>Intentionally Blank</td>\n",
       "      <td>Intentionally Blank</td>\n",
       "    </tr>\n",
       "    <tr>\n",
       "      <th>brand_category</th>\n",
       "      <td>Unknown</td>\n",
       "      <td>Unknown</td>\n",
       "      <td>Unknown</td>\n",
       "      <td>Unknown</td>\n",
       "      <td>Unknown</td>\n",
       "      <td>Unknown</td>\n",
       "      <td>Unknown</td>\n",
       "      <td>Unknown</td>\n",
       "      <td>Unknown</td>\n",
       "      <td>Unknown</td>\n",
       "    </tr>\n",
       "    <tr>\n",
       "      <th>name</th>\n",
       "      <td>ARCHIVE 2305</td>\n",
       "      <td>ARCHIVE 2307</td>\n",
       "      <td>ARCHIVE 231</td>\n",
       "      <td>ARCHIVE 2311</td>\n",
       "      <td>ARCHIVE 2314</td>\n",
       "      <td>ARCHIVE 232</td>\n",
       "      <td>ARCHIVE 233</td>\n",
       "      <td>ARCHIVE 234</td>\n",
       "      <td>ARCHIVE 235</td>\n",
       "      <td>ARCHIVE 235</td>\n",
       "    </tr>\n",
       "    <tr>\n",
       "      <th>details</th>\n",
       "      <td>NaN</td>\n",
       "      <td>NaN</td>\n",
       "      <td>NaN</td>\n",
       "      <td>NaN</td>\n",
       "      <td>NaN</td>\n",
       "      <td>NaN</td>\n",
       "      <td>NaN</td>\n",
       "      <td>NaN</td>\n",
       "      <td>NaN</td>\n",
       "      <td>NaN</td>\n",
       "    </tr>\n",
       "    <tr>\n",
       "      <th>created_at</th>\n",
       "      <td>2020-07-28 20:12:41.267 UTC</td>\n",
       "      <td>2020-07-28 20:12:41.334 UTC</td>\n",
       "      <td>2020-07-28 20:12:41.479 UTC</td>\n",
       "      <td>2020-07-28 20:12:49.075 UTC</td>\n",
       "      <td>2020-07-28 20:12:49.181 UTC</td>\n",
       "      <td>2020-07-28 20:12:49.275 UTC</td>\n",
       "      <td>2020-07-28 20:12:51.411 UTC</td>\n",
       "      <td>2020-07-28 20:12:52.801 UTC</td>\n",
       "      <td>2020-07-28 20:12:53.992 UTC</td>\n",
       "      <td>2020-07-28 20:12:55.283 UTC</td>\n",
       "    </tr>\n",
       "    <tr>\n",
       "      <th>brand_canonical_url</th>\n",
       "      <td>https://intentionallyblank.myshopify.com/produ...</td>\n",
       "      <td>https://intentionallyblank.myshopify.com/produ...</td>\n",
       "      <td>https://intentionallyblank.myshopify.com/produ...</td>\n",
       "      <td>https://intentionallyblank.myshopify.com/produ...</td>\n",
       "      <td>https://intentionallyblank.myshopify.com/produ...</td>\n",
       "      <td>https://intentionallyblank.myshopify.com/produ...</td>\n",
       "      <td>https://intentionallyblank.myshopify.com/produ...</td>\n",
       "      <td>https://intentionallyblank.myshopify.com/produ...</td>\n",
       "      <td>https://intentionallyblank.myshopify.com/produ...</td>\n",
       "      <td>https://intentionallyblank.myshopify.com/produ...</td>\n",
       "    </tr>\n",
       "    <tr>\n",
       "      <th>description</th>\n",
       "      <td>NAVY BLUE DRESS WITH FLORAL DETAIL</td>\n",
       "      <td>fly track pants</td>\n",
       "      <td>FLORAL HALTER DRESS WITH EMBELLISHED BODICE. S...</td>\n",
       "      <td>grey wool felt vest</td>\n",
       "      <td>mini chevron blazer</td>\n",
       "      <td>NaN</td>\n",
       "      <td>NaN</td>\n",
       "      <td>NaN</td>\n",
       "      <td>NaN</td>\n",
       "      <td>NaN</td>\n",
       "    </tr>\n",
       "    <tr>\n",
       "      <th>brand_description</th>\n",
       "      <td>NAVY BLUE DRESS WITH FLORAL DETAIL</td>\n",
       "      <td>fly track pants</td>\n",
       "      <td>FLORAL HALTER DRESS WITH EMBELLISHED BODICE\\n\\...</td>\n",
       "      <td>grey wool felt vest</td>\n",
       "      <td>mini chevron blazer</td>\n",
       "      <td>NaN</td>\n",
       "      <td>NaN</td>\n",
       "      <td>NaN</td>\n",
       "      <td>NaN</td>\n",
       "      <td>NaN</td>\n",
       "    </tr>\n",
       "    <tr>\n",
       "      <th>brand_name</th>\n",
       "      <td>ARCHIVE 2305</td>\n",
       "      <td>ARCHIVE 2307</td>\n",
       "      <td>ARCHIVE 231</td>\n",
       "      <td>ARCHIVE 2311</td>\n",
       "      <td>ARCHIVE 2314</td>\n",
       "      <td>ARCHIVE 232</td>\n",
       "      <td>ARCHIVE 233</td>\n",
       "      <td>ARCHIVE 234</td>\n",
       "      <td>ARCHIVE 235</td>\n",
       "      <td>ARCHIVE 235</td>\n",
       "    </tr>\n",
       "    <tr>\n",
       "      <th>product_active</th>\n",
       "      <td>False</td>\n",
       "      <td>False</td>\n",
       "      <td>False</td>\n",
       "      <td>False</td>\n",
       "      <td>False</td>\n",
       "      <td>False</td>\n",
       "      <td>False</td>\n",
       "      <td>False</td>\n",
       "      <td>False</td>\n",
       "      <td>False</td>\n",
       "    </tr>\n",
       "    <tr>\n",
       "      <th>materialclothing</th>\n",
       "      <td>UNKNOWN_MATERIAL</td>\n",
       "      <td>UNKNOWN_MATERIAL</td>\n",
       "      <td>UNKNOWN_MATERIAL</td>\n",
       "      <td>wool</td>\n",
       "      <td>UNKNOWN_MATERIAL</td>\n",
       "      <td>UNKNOWN_MATERIAL</td>\n",
       "      <td>UNKNOWN_MATERIAL</td>\n",
       "      <td>UNKNOWN_MATERIAL</td>\n",
       "      <td>UNKNOWN_MATERIAL</td>\n",
       "      <td>UNKNOWN_MATERIAL</td>\n",
       "    </tr>\n",
       "    <tr>\n",
       "      <th>style</th>\n",
       "      <td>NaN</td>\n",
       "      <td>NaN</td>\n",
       "      <td>NaN</td>\n",
       "      <td>NaN</td>\n",
       "      <td>NaN</td>\n",
       "      <td>NaN</td>\n",
       "      <td>NaN</td>\n",
       "      <td>NaN</td>\n",
       "      <td>NaN</td>\n",
       "      <td>NaN</td>\n",
       "    </tr>\n",
       "    <tr>\n",
       "      <th>primarycolor</th>\n",
       "      <td>blue,floral</td>\n",
       "      <td>UNKNOWN_COLOR</td>\n",
       "      <td>floral</td>\n",
       "      <td>UNKNOWN_COLOR</td>\n",
       "      <td>UNKNOWN_COLOR</td>\n",
       "      <td>UNKNOWN_COLOR</td>\n",
       "      <td>UNKNOWN_COLOR</td>\n",
       "      <td>UNKNOWN_COLOR</td>\n",
       "      <td>UNKNOWN_COLOR</td>\n",
       "      <td>UNKNOWN_COLOR</td>\n",
       "    </tr>\n",
       "    <tr>\n",
       "      <th>occasion</th>\n",
       "      <td>NaN</td>\n",
       "      <td>NaN</td>\n",
       "      <td>NaN</td>\n",
       "      <td>NaN</td>\n",
       "      <td>NaN</td>\n",
       "      <td>NaN</td>\n",
       "      <td>NaN</td>\n",
       "      <td>NaN</td>\n",
       "      <td>NaN</td>\n",
       "      <td>NaN</td>\n",
       "    </tr>\n",
       "    <tr>\n",
       "      <th>category</th>\n",
       "      <td>NaN</td>\n",
       "      <td>NaN</td>\n",
       "      <td>NaN</td>\n",
       "      <td>NaN</td>\n",
       "      <td>NaN</td>\n",
       "      <td>NaN</td>\n",
       "      <td>NaN</td>\n",
       "      <td>NaN</td>\n",
       "      <td>NaN</td>\n",
       "      <td>NaN</td>\n",
       "    </tr>\n",
       "    <tr>\n",
       "      <th>drycleanonly</th>\n",
       "      <td>NaN</td>\n",
       "      <td>NaN</td>\n",
       "      <td>NaN</td>\n",
       "      <td>NaN</td>\n",
       "      <td>NaN</td>\n",
       "      <td>NaN</td>\n",
       "      <td>NaN</td>\n",
       "      <td>NaN</td>\n",
       "      <td>NaN</td>\n",
       "      <td>NaN</td>\n",
       "    </tr>\n",
       "    <tr>\n",
       "      <th>sizing</th>\n",
       "      <td>NaN</td>\n",
       "      <td>NaN</td>\n",
       "      <td>NaN</td>\n",
       "      <td>NaN</td>\n",
       "      <td>NaN</td>\n",
       "      <td>NaN</td>\n",
       "      <td>NaN</td>\n",
       "      <td>NaN</td>\n",
       "      <td>NaN</td>\n",
       "      <td>NaN</td>\n",
       "    </tr>\n",
       "    <tr>\n",
       "      <th>gender</th>\n",
       "      <td>NaN</td>\n",
       "      <td>NaN</td>\n",
       "      <td>NaN</td>\n",
       "      <td>NaN</td>\n",
       "      <td>NaN</td>\n",
       "      <td>NaN</td>\n",
       "      <td>NaN</td>\n",
       "      <td>NaN</td>\n",
       "      <td>NaN</td>\n",
       "      <td>NaN</td>\n",
       "    </tr>\n",
       "    <tr>\n",
       "      <th>fit</th>\n",
       "      <td>NaN</td>\n",
       "      <td>NaN</td>\n",
       "      <td>NaN</td>\n",
       "      <td>NaN</td>\n",
       "      <td>NaN</td>\n",
       "      <td>NaN</td>\n",
       "      <td>NaN</td>\n",
       "      <td>NaN</td>\n",
       "      <td>NaN</td>\n",
       "      <td>NaN</td>\n",
       "    </tr>\n",
       "    <tr>\n",
       "      <th>sleevelength</th>\n",
       "      <td>NaN</td>\n",
       "      <td>NaN</td>\n",
       "      <td>NaN</td>\n",
       "      <td>NaN</td>\n",
       "      <td>NaN</td>\n",
       "      <td>NaN</td>\n",
       "      <td>NaN</td>\n",
       "      <td>NaN</td>\n",
       "      <td>NaN</td>\n",
       "      <td>NaN</td>\n",
       "    </tr>\n",
       "    <tr>\n",
       "      <th>product_category</th>\n",
       "      <td>One Piece</td>\n",
       "      <td>Bottom</td>\n",
       "      <td>One Piece</td>\n",
       "      <td>Top</td>\n",
       "      <td>Top</td>\n",
       "      <td>NaN</td>\n",
       "      <td>NaN</td>\n",
       "      <td>NaN</td>\n",
       "      <td>NaN</td>\n",
       "      <td>NaN</td>\n",
       "    </tr>\n",
       "    <tr>\n",
       "      <th>made_in_country</th>\n",
       "      <td>UNKNOWN_COUNTRY</td>\n",
       "      <td>UNKNOWN_COUNTRY</td>\n",
       "      <td>UNKNOWN_COUNTRY</td>\n",
       "      <td>UNKNOWN_COUNTRY</td>\n",
       "      <td>UNKNOWN_COUNTRY</td>\n",
       "      <td>UNKNOWN_COUNTRY</td>\n",
       "      <td>UNKNOWN_COUNTRY</td>\n",
       "      <td>UNKNOWN_COUNTRY</td>\n",
       "      <td>UNKNOWN_COUNTRY</td>\n",
       "      <td>UNKNOWN_COUNTRY</td>\n",
       "    </tr>\n",
       "    <tr>\n",
       "      <th>colors_temp</th>\n",
       "      <td>{'blue', 'floral'}</td>\n",
       "      <td>NaN</td>\n",
       "      <td>{'floral'}</td>\n",
       "      <td>NaN</td>\n",
       "      <td>NaN</td>\n",
       "      <td>NaN</td>\n",
       "      <td>NaN</td>\n",
       "      <td>NaN</td>\n",
       "      <td>NaN</td>\n",
       "      <td>NaN</td>\n",
       "    </tr>\n",
       "    <tr>\n",
       "      <th>materials_temp</th>\n",
       "      <td>NaN</td>\n",
       "      <td>NaN</td>\n",
       "      <td>NaN</td>\n",
       "      <td>{'wool'}</td>\n",
       "      <td>NaN</td>\n",
       "      <td>NaN</td>\n",
       "      <td>NaN</td>\n",
       "      <td>NaN</td>\n",
       "      <td>NaN</td>\n",
       "      <td>NaN</td>\n",
       "    </tr>\n",
       "    <tr>\n",
       "      <th>details_stemmed</th>\n",
       "      <td>NaN</td>\n",
       "      <td>NaN</td>\n",
       "      <td>NaN</td>\n",
       "      <td>NaN</td>\n",
       "      <td>NaN</td>\n",
       "      <td>NaN</td>\n",
       "      <td>NaN</td>\n",
       "      <td>NaN</td>\n",
       "      <td>NaN</td>\n",
       "      <td>NaN</td>\n",
       "    </tr>\n",
       "    <tr>\n",
       "      <th>description_stemmed</th>\n",
       "      <td>navi blue dress floral detail</td>\n",
       "      <td>fli track pant</td>\n",
       "      <td>floral halter dress embellish bodic . size . b...</td>\n",
       "      <td>grey wool felt vest</td>\n",
       "      <td>mini chevron blazer</td>\n",
       "      <td>NaN</td>\n",
       "      <td>NaN</td>\n",
       "      <td>NaN</td>\n",
       "      <td>NaN</td>\n",
       "      <td>NaN</td>\n",
       "    </tr>\n",
       "    <tr>\n",
       "      <th>label</th>\n",
       "      <td>Intentionally Blank</td>\n",
       "      <td>Intentionally Blank</td>\n",
       "      <td>Intentionally Blank</td>\n",
       "      <td>Intentionally Blank</td>\n",
       "      <td>Intentionally Blank</td>\n",
       "      <td>Intentionally Blank</td>\n",
       "      <td>Intentionally Blank</td>\n",
       "      <td>Intentionally Blank</td>\n",
       "      <td>Intentionally Blank</td>\n",
       "      <td>Intentionally Blank</td>\n",
       "    </tr>\n",
       "  </tbody>\n",
       "</table>\n",
       "</div>"
      ],
      "text/plain": [
       "                                                                 20000  \\\n",
       "product_id                                  01EEBGWGXVA6QT2YNKR583WNPM   \n",
       "brand                                              Intentionally Blank   \n",
       "brand_category                                                 Unknown   \n",
       "name                                                      ARCHIVE 2305   \n",
       "details                                                            NaN   \n",
       "created_at                                 2020-07-28 20:12:41.267 UTC   \n",
       "brand_canonical_url  https://intentionallyblank.myshopify.com/produ...   \n",
       "description                         NAVY BLUE DRESS WITH FLORAL DETAIL   \n",
       "brand_description                   NAVY BLUE DRESS WITH FLORAL DETAIL   \n",
       "brand_name                                                ARCHIVE 2305   \n",
       "product_active                                                   False   \n",
       "materialclothing                                      UNKNOWN_MATERIAL   \n",
       "style                                                              NaN   \n",
       "primarycolor                                               blue,floral   \n",
       "occasion                                                           NaN   \n",
       "category                                                           NaN   \n",
       "drycleanonly                                                       NaN   \n",
       "sizing                                                             NaN   \n",
       "gender                                                             NaN   \n",
       "fit                                                                NaN   \n",
       "sleevelength                                                       NaN   \n",
       "product_category                                             One Piece   \n",
       "made_in_country                                        UNKNOWN_COUNTRY   \n",
       "colors_temp                                         {'blue', 'floral'}   \n",
       "materials_temp                                                     NaN   \n",
       "details_stemmed                                                    NaN   \n",
       "description_stemmed                      navi blue dress floral detail   \n",
       "label                                              Intentionally Blank   \n",
       "\n",
       "                                                                 20001  \\\n",
       "product_id                                  01EEBGWH0QA1DEVRY8D8WEYQ49   \n",
       "brand                                              Intentionally Blank   \n",
       "brand_category                                                 Unknown   \n",
       "name                                                      ARCHIVE 2307   \n",
       "details                                                            NaN   \n",
       "created_at                                 2020-07-28 20:12:41.334 UTC   \n",
       "brand_canonical_url  https://intentionallyblank.myshopify.com/produ...   \n",
       "description                                            fly track pants   \n",
       "brand_description                                      fly track pants   \n",
       "brand_name                                                ARCHIVE 2307   \n",
       "product_active                                                   False   \n",
       "materialclothing                                      UNKNOWN_MATERIAL   \n",
       "style                                                              NaN   \n",
       "primarycolor                                             UNKNOWN_COLOR   \n",
       "occasion                                                           NaN   \n",
       "category                                                           NaN   \n",
       "drycleanonly                                                       NaN   \n",
       "sizing                                                             NaN   \n",
       "gender                                                             NaN   \n",
       "fit                                                                NaN   \n",
       "sleevelength                                                       NaN   \n",
       "product_category                                                Bottom   \n",
       "made_in_country                                        UNKNOWN_COUNTRY   \n",
       "colors_temp                                                        NaN   \n",
       "materials_temp                                                     NaN   \n",
       "details_stemmed                                                    NaN   \n",
       "description_stemmed                                     fli track pant   \n",
       "label                                              Intentionally Blank   \n",
       "\n",
       "                                                                 20002  \\\n",
       "product_id                                  01EEBGWH4FQC26RQ23R8J483T9   \n",
       "brand                                              Intentionally Blank   \n",
       "brand_category                                                 Unknown   \n",
       "name                                                       ARCHIVE 231   \n",
       "details                                                            NaN   \n",
       "created_at                                 2020-07-28 20:12:41.479 UTC   \n",
       "brand_canonical_url  https://intentionallyblank.myshopify.com/produ...   \n",
       "description          FLORAL HALTER DRESS WITH EMBELLISHED BODICE. S...   \n",
       "brand_description    FLORAL HALTER DRESS WITH EMBELLISHED BODICE\\n\\...   \n",
       "brand_name                                                 ARCHIVE 231   \n",
       "product_active                                                   False   \n",
       "materialclothing                                      UNKNOWN_MATERIAL   \n",
       "style                                                              NaN   \n",
       "primarycolor                                                    floral   \n",
       "occasion                                                           NaN   \n",
       "category                                                           NaN   \n",
       "drycleanonly                                                       NaN   \n",
       "sizing                                                             NaN   \n",
       "gender                                                             NaN   \n",
       "fit                                                                NaN   \n",
       "sleevelength                                                       NaN   \n",
       "product_category                                             One Piece   \n",
       "made_in_country                                        UNKNOWN_COUNTRY   \n",
       "colors_temp                                                 {'floral'}   \n",
       "materials_temp                                                     NaN   \n",
       "details_stemmed                                                    NaN   \n",
       "description_stemmed  floral halter dress embellish bodic . size . b...   \n",
       "label                                              Intentionally Blank   \n",
       "\n",
       "                                                                 20003  \\\n",
       "product_id                                  01EEBGWRHWR7XMT0SMRZH91R4Q   \n",
       "brand                                              Intentionally Blank   \n",
       "brand_category                                                 Unknown   \n",
       "name                                                      ARCHIVE 2311   \n",
       "details                                                            NaN   \n",
       "created_at                                 2020-07-28 20:12:49.075 UTC   \n",
       "brand_canonical_url  https://intentionallyblank.myshopify.com/produ...   \n",
       "description                                        grey wool felt vest   \n",
       "brand_description                                  grey wool felt vest   \n",
       "brand_name                                                ARCHIVE 2311   \n",
       "product_active                                                   False   \n",
       "materialclothing                                                  wool   \n",
       "style                                                              NaN   \n",
       "primarycolor                                             UNKNOWN_COLOR   \n",
       "occasion                                                           NaN   \n",
       "category                                                           NaN   \n",
       "drycleanonly                                                       NaN   \n",
       "sizing                                                             NaN   \n",
       "gender                                                             NaN   \n",
       "fit                                                                NaN   \n",
       "sleevelength                                                       NaN   \n",
       "product_category                                                   Top   \n",
       "made_in_country                                        UNKNOWN_COUNTRY   \n",
       "colors_temp                                                        NaN   \n",
       "materials_temp                                                {'wool'}   \n",
       "details_stemmed                                                    NaN   \n",
       "description_stemmed                                grey wool felt vest   \n",
       "label                                              Intentionally Blank   \n",
       "\n",
       "                                                                 20004  \\\n",
       "product_id                                  01EEBGWRN5D75PAHKE8YNZ2P9G   \n",
       "brand                                              Intentionally Blank   \n",
       "brand_category                                                 Unknown   \n",
       "name                                                      ARCHIVE 2314   \n",
       "details                                                            NaN   \n",
       "created_at                                 2020-07-28 20:12:49.181 UTC   \n",
       "brand_canonical_url  https://intentionallyblank.myshopify.com/produ...   \n",
       "description                                        mini chevron blazer   \n",
       "brand_description                                  mini chevron blazer   \n",
       "brand_name                                                ARCHIVE 2314   \n",
       "product_active                                                   False   \n",
       "materialclothing                                      UNKNOWN_MATERIAL   \n",
       "style                                                              NaN   \n",
       "primarycolor                                             UNKNOWN_COLOR   \n",
       "occasion                                                           NaN   \n",
       "category                                                           NaN   \n",
       "drycleanonly                                                       NaN   \n",
       "sizing                                                             NaN   \n",
       "gender                                                             NaN   \n",
       "fit                                                                NaN   \n",
       "sleevelength                                                       NaN   \n",
       "product_category                                                   Top   \n",
       "made_in_country                                        UNKNOWN_COUNTRY   \n",
       "colors_temp                                                        NaN   \n",
       "materials_temp                                                     NaN   \n",
       "details_stemmed                                                    NaN   \n",
       "description_stemmed                                mini chevron blazer   \n",
       "label                                              Intentionally Blank   \n",
       "\n",
       "                                                                 20005  \\\n",
       "product_id                                  01EEBGWRR3G7WC84JKNHMVGECR   \n",
       "brand                                              Intentionally Blank   \n",
       "brand_category                                                 Unknown   \n",
       "name                                                       ARCHIVE 232   \n",
       "details                                                            NaN   \n",
       "created_at                                 2020-07-28 20:12:49.275 UTC   \n",
       "brand_canonical_url  https://intentionallyblank.myshopify.com/produ...   \n",
       "description                                                        NaN   \n",
       "brand_description                                                  NaN   \n",
       "brand_name                                                 ARCHIVE 232   \n",
       "product_active                                                   False   \n",
       "materialclothing                                      UNKNOWN_MATERIAL   \n",
       "style                                                              NaN   \n",
       "primarycolor                                             UNKNOWN_COLOR   \n",
       "occasion                                                           NaN   \n",
       "category                                                           NaN   \n",
       "drycleanonly                                                       NaN   \n",
       "sizing                                                             NaN   \n",
       "gender                                                             NaN   \n",
       "fit                                                                NaN   \n",
       "sleevelength                                                       NaN   \n",
       "product_category                                                   NaN   \n",
       "made_in_country                                        UNKNOWN_COUNTRY   \n",
       "colors_temp                                                        NaN   \n",
       "materials_temp                                                     NaN   \n",
       "details_stemmed                                                    NaN   \n",
       "description_stemmed                                                NaN   \n",
       "label                                              Intentionally Blank   \n",
       "\n",
       "                                                                 20006  \\\n",
       "product_id                                  01EEBGWTTV1J3V63G8NE10FSKF   \n",
       "brand                                              Intentionally Blank   \n",
       "brand_category                                                 Unknown   \n",
       "name                                                       ARCHIVE 233   \n",
       "details                                                            NaN   \n",
       "created_at                                 2020-07-28 20:12:51.411 UTC   \n",
       "brand_canonical_url  https://intentionallyblank.myshopify.com/produ...   \n",
       "description                                                        NaN   \n",
       "brand_description                                                  NaN   \n",
       "brand_name                                                 ARCHIVE 233   \n",
       "product_active                                                   False   \n",
       "materialclothing                                      UNKNOWN_MATERIAL   \n",
       "style                                                              NaN   \n",
       "primarycolor                                             UNKNOWN_COLOR   \n",
       "occasion                                                           NaN   \n",
       "category                                                           NaN   \n",
       "drycleanonly                                                       NaN   \n",
       "sizing                                                             NaN   \n",
       "gender                                                             NaN   \n",
       "fit                                                                NaN   \n",
       "sleevelength                                                       NaN   \n",
       "product_category                                                   NaN   \n",
       "made_in_country                                        UNKNOWN_COUNTRY   \n",
       "colors_temp                                                        NaN   \n",
       "materials_temp                                                     NaN   \n",
       "details_stemmed                                                    NaN   \n",
       "description_stemmed                                                NaN   \n",
       "label                                              Intentionally Blank   \n",
       "\n",
       "                                                                 20007  \\\n",
       "product_id                                  01EEBGWW6AQ2H84WR1VGQPHF1J   \n",
       "brand                                              Intentionally Blank   \n",
       "brand_category                                                 Unknown   \n",
       "name                                                       ARCHIVE 234   \n",
       "details                                                            NaN   \n",
       "created_at                                 2020-07-28 20:12:52.801 UTC   \n",
       "brand_canonical_url  https://intentionallyblank.myshopify.com/produ...   \n",
       "description                                                        NaN   \n",
       "brand_description                                                  NaN   \n",
       "brand_name                                                 ARCHIVE 234   \n",
       "product_active                                                   False   \n",
       "materialclothing                                      UNKNOWN_MATERIAL   \n",
       "style                                                              NaN   \n",
       "primarycolor                                             UNKNOWN_COLOR   \n",
       "occasion                                                           NaN   \n",
       "category                                                           NaN   \n",
       "drycleanonly                                                       NaN   \n",
       "sizing                                                             NaN   \n",
       "gender                                                             NaN   \n",
       "fit                                                                NaN   \n",
       "sleevelength                                                       NaN   \n",
       "product_category                                                   NaN   \n",
       "made_in_country                                        UNKNOWN_COUNTRY   \n",
       "colors_temp                                                        NaN   \n",
       "materials_temp                                                     NaN   \n",
       "details_stemmed                                                    NaN   \n",
       "description_stemmed                                                NaN   \n",
       "label                                              Intentionally Blank   \n",
       "\n",
       "                                                                 20008  \\\n",
       "product_id                                  01EEBGWXBF4NNC4P3NMVA7D3ZT   \n",
       "brand                                              Intentionally Blank   \n",
       "brand_category                                                 Unknown   \n",
       "name                                                       ARCHIVE 235   \n",
       "details                                                            NaN   \n",
       "created_at                                 2020-07-28 20:12:53.992 UTC   \n",
       "brand_canonical_url  https://intentionallyblank.myshopify.com/produ...   \n",
       "description                                                        NaN   \n",
       "brand_description                                                  NaN   \n",
       "brand_name                                                 ARCHIVE 235   \n",
       "product_active                                                   False   \n",
       "materialclothing                                      UNKNOWN_MATERIAL   \n",
       "style                                                              NaN   \n",
       "primarycolor                                             UNKNOWN_COLOR   \n",
       "occasion                                                           NaN   \n",
       "category                                                           NaN   \n",
       "drycleanonly                                                       NaN   \n",
       "sizing                                                             NaN   \n",
       "gender                                                             NaN   \n",
       "fit                                                                NaN   \n",
       "sleevelength                                                       NaN   \n",
       "product_category                                                   NaN   \n",
       "made_in_country                                        UNKNOWN_COUNTRY   \n",
       "colors_temp                                                        NaN   \n",
       "materials_temp                                                     NaN   \n",
       "details_stemmed                                                    NaN   \n",
       "description_stemmed                                                NaN   \n",
       "label                                              Intentionally Blank   \n",
       "\n",
       "                                                                 20009  \n",
       "product_id                                  01EEBGWYKVVD087V0ZWHJEQM54  \n",
       "brand                                              Intentionally Blank  \n",
       "brand_category                                                 Unknown  \n",
       "name                                                       ARCHIVE 235  \n",
       "details                                                            NaN  \n",
       "created_at                                 2020-07-28 20:12:55.283 UTC  \n",
       "brand_canonical_url  https://intentionallyblank.myshopify.com/produ...  \n",
       "description                                                        NaN  \n",
       "brand_description                                                  NaN  \n",
       "brand_name                                                 ARCHIVE 235  \n",
       "product_active                                                   False  \n",
       "materialclothing                                      UNKNOWN_MATERIAL  \n",
       "style                                                              NaN  \n",
       "primarycolor                                             UNKNOWN_COLOR  \n",
       "occasion                                                           NaN  \n",
       "category                                                           NaN  \n",
       "drycleanonly                                                       NaN  \n",
       "sizing                                                             NaN  \n",
       "gender                                                             NaN  \n",
       "fit                                                                NaN  \n",
       "sleevelength                                                       NaN  \n",
       "product_category                                                   NaN  \n",
       "made_in_country                                        UNKNOWN_COUNTRY  \n",
       "colors_temp                                                        NaN  \n",
       "materials_temp                                                     NaN  \n",
       "details_stemmed                                                    NaN  \n",
       "description_stemmed                                                NaN  \n",
       "label                                              Intentionally Blank  "
      ]
     },
     "execution_count": 6,
     "metadata": {},
     "output_type": "execute_result"
    }
   ],
   "source": [
    "data.head().T"
   ]
  },
  {
   "cell_type": "code",
   "execution_count": 7,
   "metadata": {},
   "outputs": [
    {
     "data": {
      "text/plain": [
       "product_id                 0\n",
       "brand                      0\n",
       "brand_category           459\n",
       "name                       1\n",
       "details                52155\n",
       "created_at                 0\n",
       "brand_canonical_url        0\n",
       "description            10121\n",
       "brand_description      10121\n",
       "brand_name                 1\n",
       "product_active             0\n",
       "materialclothing           0\n",
       "style                  57598\n",
       "primarycolor               0\n",
       "occasion               57600\n",
       "category               57576\n",
       "drycleanonly           58717\n",
       "sizing                 58566\n",
       "gender                 57598\n",
       "fit                    58558\n",
       "sleevelength           59414\n",
       "product_category       24576\n",
       "made_in_country            0\n",
       "colors_temp            41079\n",
       "materials_temp         29839\n",
       "details_stemmed        52155\n",
       "description_stemmed    10121\n",
       "label                      0\n",
       "dtype: int64"
      ]
     },
     "execution_count": 7,
     "metadata": {},
     "output_type": "execute_result"
    }
   ],
   "source": [
    "data.isna().sum()"
   ]
  },
  {
   "cell_type": "code",
   "execution_count": 8,
   "metadata": {},
   "outputs": [],
   "source": [
    "# Fill NaN in feature columns\n",
    "data.description = data.description.fillna(\"UNAVAILABLE\")\n",
    "data.product_category = data.product_category.fillna(\"UNKNOWN_CATEGORY\")\n",
    "data.name = data.name.fillna(\"UNKNOWN_NAME\")"
   ]
  },
  {
   "cell_type": "code",
   "execution_count": 9,
   "metadata": {},
   "outputs": [],
   "source": [
    "# Remove stopwords from description column\n",
    "docs = data.description\n",
    "nlp = spacy.load('en_core_web_sm')\n",
    "stopwords_removed_docs = list(\n",
    "map(lambda doc: \" \".join([token.text for token in nlp(doc) if not token.is_stop]), docs))"
   ]
  },
  {
   "cell_type": "code",
   "execution_count": 11,
   "metadata": {},
   "outputs": [],
   "source": [
    "# Remove stopwords from name column\n",
    "docs_2 = data.name\n",
    "stopwords_removed_docs_2 = list(\n",
    "map(lambda doc: \" \".join([token.text for token in nlp(doc) if not token.is_stop]), docs_2))"
   ]
  },
  {
   "cell_type": "code",
   "execution_count": 12,
   "metadata": {},
   "outputs": [],
   "source": [
    "def comma_separate(txt_list):\n",
    "    \"\"\" Converts strings with commas to a Python list \"\"\"\n",
    "    return list(map(lambda x: (\" \").join(x.split(\",\")), list( txt_list )))"
   ]
  },
  {
   "cell_type": "markdown",
   "metadata": {},
   "source": [
    "## Tokenize text"
   ]
  },
  {
   "cell_type": "code",
   "execution_count": 106,
   "metadata": {},
   "outputs": [],
   "source": [
    "# All tokens that are not in the Vocabulary (top 10000 words) are replaced by \"UNKNOWN TOKEN\"\n",
    "tokenizer = Tokenizer(num_words=10000, oov_token=\"UNKNOWN_TOKEN\")\n",
    "tokenizer.fit_on_texts( stopwords_removed_docs + stopwords_removed_docs_2 + comma_separate( data.primarycolor ) + comma_separate( data.materialclothing ) + list( data.made_in_country ) + list( data.product_category ) )"
   ]
  },
  {
   "cell_type": "code",
   "execution_count": 126,
   "metadata": {},
   "outputs": [],
   "source": [
    "def integer_encode_documents(docs, tokenizer):\n",
    "    \"\"\" Integer encode documents using tokenizer that is passed as input \"\"\"\n",
    "    return tokenizer.texts_to_sequences(docs)"
   ]
  },
  {
   "cell_type": "markdown",
   "metadata": {},
   "source": [
    "## Pad the documents"
   ]
  },
  {
   "cell_type": "markdown",
   "metadata": {},
   "source": [
    "Use histograms of feature lengths to determine the most suitable maximum length for each feature"
   ]
  },
  {
   "cell_type": "code",
   "execution_count": 16,
   "metadata": {},
   "outputs": [
    {
     "data": {
      "text/plain": [
       "(array([38024., 16901.,  4900.,   855.,   169.,   104.,    92.,   149.,\n",
       "           75.,    86.]),\n",
       " array([  1. ,  53.7, 106.4, 159.1, 211.8, 264.5, 317.2, 369.9, 422.6,\n",
       "        475.3, 528. ]),\n",
       " <a list of 10 Patch objects>)"
      ]
     },
     "execution_count": 16,
     "metadata": {},
     "output_type": "execute_result"
    },
    {
     "data": {
      "image/png": "[encoded data removed]",
      "text/plain": [
       "<Figure size 432x288 with 1 Axes>"
      ]
     },
     "metadata": {
      "needs_background": "light"
     },
     "output_type": "display_data"
    }
   ],
   "source": [
    "import matplotlib.pyplot as plt\n",
    "plt.hist(list(map(lambda x: len(x.split()), docs)))"
   ]
  },
  {
   "cell_type": "code",
   "execution_count": 17,
   "metadata": {},
   "outputs": [
    {
     "data": {
      "text/plain": [
       "(array([3.4264e+04, 1.7574e+04, 7.0270e+03, 1.7440e+03, 5.5900e+02,\n",
       "        1.5000e+02, 3.3000e+01, 2.0000e+00, 1.0000e+00, 1.0000e+00]),\n",
       " array([ 1. ,  3.1,  5.2,  7.3,  9.4, 11.5, 13.6, 15.7, 17.8, 19.9, 22. ]),\n",
       " <a list of 10 Patch objects>)"
      ]
     },
     "execution_count": 17,
     "metadata": {},
     "output_type": "execute_result"
    },
    {
     "data": {
      "image/png": "[encoded data removed]",
      "text/plain": [
       "<Figure size 432x288 with 1 Axes>"
      ]
     },
     "metadata": {
      "needs_background": "light"
     },
     "output_type": "display_data"
    }
   ],
   "source": [
    "plt.hist(list(map(lambda x: len(x.split()), docs_2)))"
   ]
  },
  {
   "cell_type": "code",
   "execution_count": 18,
   "metadata": {},
   "outputs": [
    {
     "data": {
      "text/plain": [
       "(array([5.5705e+04, 4.4840e+03, 8.7900e+02, 1.7700e+02, 6.1000e+01,\n",
       "        3.5000e+01, 7.0000e+00, 3.0000e+00, 3.0000e+00, 1.0000e+00]),\n",
       " array([ 1. ,  1.9,  2.8,  3.7,  4.6,  5.5,  6.4,  7.3,  8.2,  9.1, 10. ]),\n",
       " <a list of 10 Patch objects>)"
      ]
     },
     "execution_count": 18,
     "metadata": {},
     "output_type": "execute_result"
    },
    {
     "data": {
      "image/png": "[encoded data removed]",
      "text/plain": [
       "<Figure size 432x288 with 1 Axes>"
      ]
     },
     "metadata": {
      "needs_background": "light"
     },
     "output_type": "display_data"
    }
   ],
   "source": [
    "plt.hist(list(map(lambda x: len(x.split(\",\")), list(data.primarycolor))))"
   ]
  },
  {
   "cell_type": "code",
   "execution_count": 19,
   "metadata": {
    "scrolled": true
   },
   "outputs": [
    {
     "data": {
      "text/plain": [
       "(array([4.9999e+04, 0.0000e+00, 8.9530e+03, 0.0000e+00, 1.8100e+03,\n",
       "        0.0000e+00, 4.2700e+02, 0.0000e+00, 1.5000e+02, 1.6000e+01]),\n",
       " array([1. , 1.5, 2. , 2.5, 3. , 3.5, 4. , 4.5, 5. , 5.5, 6. ]),\n",
       " <a list of 10 Patch objects>)"
      ]
     },
     "execution_count": 19,
     "metadata": {},
     "output_type": "execute_result"
    },
    {
     "data": {
      "image/png": "[encoded data removed]",
      "text/plain": [
       "<Figure size 432x288 with 1 Axes>"
      ]
     },
     "metadata": {
      "needs_background": "light"
     },
     "output_type": "display_data"
    }
   ],
   "source": [
    "plt.hist(list(map(lambda x: len(x.split(\",\")), list(data.materialclothing))))"
   ]
  },
  {
   "cell_type": "code",
   "execution_count": 20,
   "metadata": {},
   "outputs": [
    {
     "data": {
      "text/plain": [
       "(array([53228.,     0.,     0.,     0.,     0.,     0.,     0.,     0.,\n",
       "            0.,  8127.]),\n",
       " array([1. , 1.1, 1.2, 1.3, 1.4, 1.5, 1.6, 1.7, 1.8, 1.9, 2. ]),\n",
       " <a list of 10 Patch objects>)"
      ]
     },
     "execution_count": 20,
     "metadata": {},
     "output_type": "execute_result"
    },
    {
     "data": {
      "image/png": "[encoded data removed]",
      "text/plain": [
       "<Figure size 432x288 with 1 Axes>"
      ]
     },
     "metadata": {
      "needs_background": "light"
     },
     "output_type": "display_data"
    }
   ],
   "source": [
    "plt.hist(list(map(lambda x: len(x.split()), data.product_category)))"
   ]
  },
  {
   "cell_type": "code",
   "execution_count": 128,
   "metadata": {},
   "outputs": [],
   "source": [
    "def pad(sequence, tokenizer, max_length):\n",
    "    \"\"\" Integer encodes and pads documents to max length passed as input\"\"\"\n",
    "    encoded_docs = integer_encode_documents(sequence, tokenizer)\n",
    "    return pad_sequences(encoded_docs, maxlen=max_length, padding='post')"
   ]
  },
  {
   "cell_type": "code",
   "execution_count": 22,
   "metadata": {},
   "outputs": [],
   "source": [
    "# Pad the documents according to max lengths determined from histograms\n",
    "padded_docs_1 = pad(stopwords_removed_docs, tokenizer, 150)\n",
    "padded_docs_2 = pad( stopwords_removed_docs_2, tokenizer, 7 )\n",
    "padded_docs_3 = pad( comma_separate( data.materialclothing ), tokenizer, 3 )\n",
    "padded_docs_4 = pad( comma_separate( data.primarycolor ), tokenizer, 3 )\n",
    "padded_docs_5 = pad( data.made_in_country, tokenizer, 2 )\n",
    "padded_docs_6 = pad( data.product_category, tokenizer, 2 )"
   ]
  },
  {
   "cell_type": "code",
   "execution_count": 259,
   "metadata": {},
   "outputs": [],
   "source": [
    "# Concatenate all padded encodings together\n",
    "concatenated_padded_docs = [0] * len(padded_docs_1)\n",
    "for i in range(len(padded_docs_1)):\n",
    "    concatenated_padded_docs[i] = np.array(list( padded_docs_1[i] ) + list( padded_docs_2[i] )  + list( padded_docs_3[i] ) + list( padded_docs_4[i] )+ list( padded_docs_5[i] ) + list( padded_docs_6[i] ) ) \n",
    "concatenated_padded_docs = np.array( concatenated_padded_docs )"
   ]
  },
  {
   "cell_type": "markdown",
   "metadata": {},
   "source": [
    "## Split data into training and testing sets"
   ]
  },
  {
   "cell_type": "code",
   "execution_count": 260,
   "metadata": {},
   "outputs": [],
   "source": [
    "from sklearn.model_selection import train_test_split\n",
    "X_train, X_test, y_train, y_test = train_test_split(concatenated_padded_docs, labels, test_size=0.2, stratify = labels)"
   ]
  },
  {
   "cell_type": "markdown",
   "metadata": {},
   "source": [
    "## Load GloVe Vectors"
   ]
  },
  {
   "cell_type": "code",
   "execution_count": 91,
   "metadata": {},
   "outputs": [
    {
     "name": "stdout",
     "output_type": "stream",
     "text": [
      "Loaded 400000 word vectors.\n"
     ]
    }
   ],
   "source": [
    "def load_glove_vectors():\n",
    "    embeddings_index = {}\n",
    "    with open('glove.6B.100d.txt') as f:\n",
    "        for line in f:\n",
    "            values = line.split()\n",
    "            word = values[0]\n",
    "            coefs = np.asarray(values[1:], dtype='float32')\n",
    "            embeddings_index[word] = coefs\n",
    "    print('Loaded %s word vectors.' % len(embeddings_index))\n",
    "    return embeddings_index\n",
    "\n",
    "\n",
    "embeddings_index = load_glove_vectors()"
   ]
  },
  {
   "cell_type": "markdown",
   "metadata": {},
   "source": [
    "## Load Embeddings"
   ]
  },
  {
   "cell_type": "code",
   "execution_count": 262,
   "metadata": {},
   "outputs": [],
   "source": [
    "# Increase vocabulary size by 10% so that custom tokens can be stored during processing\n",
    "VOCAB_SIZE = int(len(tokenizer.word_index) * 1.1)\n",
    "\n",
    "# create a weight matrix for words in training docs\n",
    "embedding_matrix = np.zeros((VOCAB_SIZE, 100))\n",
    "for word, i in tokenizer.word_index.items():\n",
    "    embedding_vector = embeddings_index.get(word)\n",
    "    if embedding_vector is not None: # check that it is an actual word that we have embeddings for\n",
    "        embedding_matrix[i] = embedding_vector"
   ]
  },
  {
   "cell_type": "code",
   "execution_count": 266,
   "metadata": {},
   "outputs": [],
   "source": [
    "# this is the sum of lengths of individual features\n",
    "MAX_SEQUENCE_LENGTH = 167"
   ]
  },
  {
   "cell_type": "markdown",
   "metadata": {},
   "source": [
    "## Test RNN model"
   ]
  },
  {
   "cell_type": "code",
   "execution_count": 255,
   "metadata": {},
   "outputs": [],
   "source": [
    "def make_binary_classification_rnn_model(plot=False):\n",
    "    \"\"\" Create RNN Model \"\"\"\n",
    "    model =  Sequential()\n",
    "    model.add(Embedding(embedding_matrix.shape[0], \n",
    "                    100, \n",
    "                    weights=[embedding_matrix], \n",
    "                    input_length=MAX_SEQUENCE_LENGTH, trainable=False))\n",
    "    model.add(Masking(mask_value=0.0)) # masking layer, masks any words that don't have an embedding as 0s.\n",
    "    model.add(SimpleRNN(units=64, input_shape=(1, MAX_SEQUENCE_LENGTH)))\n",
    "    model.add(Dense(64))\n",
    "    model.add(Dense(31, activation='softmax'))\n",
    "    \n",
    "    # Compile the model\n",
    "    model.compile(\n",
    "    optimizer='adam', loss='categorical_crossentropy', metrics=['accuracy'])\n",
    "    # summarize the model\n",
    "    model.summary()\n",
    "    \n",
    "    if plot:\n",
    "        plot_model(model, to_file='model.png', show_shapes=True)\n",
    "    return model"
   ]
  },
  {
   "cell_type": "code",
   "execution_count": 143,
   "metadata": {},
   "outputs": [
    {
     "name": "stdout",
     "output_type": "stream",
     "text": [
      "Model: \"sequential_8\"\n",
      "_________________________________________________________________\n",
      "Layer (type)                 Output Shape              Param #   \n",
      "=================================================================\n",
      "embedding_8 (Embedding)      (None, 159, 100)          3673100   \n",
      "_________________________________________________________________\n",
      "masking_8 (Masking)          (None, 159, 100)          0         \n",
      "_________________________________________________________________\n",
      "simple_rnn_8 (SimpleRNN)     (None, 64)                10560     \n",
      "_________________________________________________________________\n",
      "dense_16 (Dense)             (None, 64)                4160      \n",
      "_________________________________________________________________\n",
      "dense_17 (Dense)             (None, 31)                2015      \n",
      "=================================================================\n",
      "Total params: 3,689,835\n",
      "Trainable params: 16,735\n",
      "Non-trainable params: 3,673,100\n",
      "_________________________________________________________________\n",
      "None\n",
      "('Failed to import pydot. You must `pip install pydot` and install graphviz (https://graphviz.gitlab.io/download/), ', 'for `pydotprint` to work.')\n"
     ]
    }
   ],
   "source": [
    "from keras.utils.vis_utils import plot_model\n",
    "\n",
    "# Compile the model\n",
    "model.compile(\n",
    "    optimizer='adam', loss='categorical_crossentropy', metrics=['accuracy'])\n",
    "# summarize the model\n",
    "print(model.summary())\n",
    "plot_model(model, to_file='model.png', show_shapes=True)"
   ]
  },
  {
   "cell_type": "code",
   "execution_count": 96,
   "metadata": {
    "scrolled": true
   },
   "outputs": [
    {
     "data": {
      "text/plain": [
       "OTHER                    0.254079\n",
       "7 For All Mankind        0.146867\n",
       "Rails                    0.046679\n",
       "Intentionally Blank      0.041301\n",
       "A.L.C.                   0.034097\n",
       "Rachel Comey             0.033917\n",
       "Misa                     0.033086\n",
       "Studio 189               0.031880\n",
       "ASTR the Label           0.031652\n",
       "lemlem                   0.029680\n",
       "Simon Miller             0.023649\n",
       "Cynthia Rowley           0.021954\n",
       "Outerknown               0.021808\n",
       "Chufy                    0.019705\n",
       "Faherty                  0.019624\n",
       "M.M.LaFleur              0.019428\n",
       "Janessa Leone            0.018238\n",
       "Araks                    0.017619\n",
       "Sea                      0.017162\n",
       "BROCHU WALKER            0.016315\n",
       "Tanya Taylor             0.016152\n",
       "Clare V.                 0.015027\n",
       "Nili Lotan               0.011686\n",
       "Les Girls Les Boys       0.011328\n",
       "Prism                    0.010871\n",
       "Sandy Liang              0.010806\n",
       "6397                     0.010627\n",
       "Ancient Greek Sandals    0.010073\n",
       "Alo Yoga                 0.008557\n",
       "Collina Strada           0.008166\n",
       "Whit                     0.007970\n",
       "Name: label, dtype: float64"
      ]
     },
     "execution_count": 96,
     "metadata": {},
     "output_type": "execute_result"
    }
   ],
   "source": [
    "data[\"label\"].value_counts(normalize=True)"
   ]
  },
  {
   "cell_type": "markdown",
   "metadata": {},
   "source": [
    "From the data above, we can see that the baseline accuracy is 25%"
   ]
  },
  {
   "cell_type": "code",
   "execution_count": 144,
   "metadata": {
    "scrolled": true
   },
   "outputs": [
    {
     "name": "stdout",
     "output_type": "stream",
     "text": [
      "Epoch 1/25\n",
      "1381/1381 [==============================] - 46s 32ms/step - loss: 2.2132 - accuracy: 0.4207 - val_loss: 1.3959 - val_accuracy: 0.6150\n",
      "Epoch 2/25\n",
      "1381/1381 [==============================] - 44s 32ms/step - loss: 1.3159 - accuracy: 0.6338 - val_loss: 1.1803 - val_accuracy: 0.6751\n",
      "Epoch 3/25\n",
      "1381/1381 [==============================] - 44s 32ms/step - loss: 1.1077 - accuracy: 0.6932 - val_loss: 1.1081 - val_accuracy: 0.6948\n",
      "Epoch 4/25\n",
      "1381/1381 [==============================] - 43s 31ms/step - loss: 1.0033 - accuracy: 0.7184 - val_loss: 1.0726 - val_accuracy: 0.6997\n",
      "Epoch 5/25\n",
      "1381/1381 [==============================] - 44s 32ms/step - loss: 0.9087 - accuracy: 0.7433 - val_loss: 0.9852 - val_accuracy: 0.7268\n",
      "Epoch 6/25\n",
      "1381/1381 [==============================] - 43s 31ms/step - loss: 0.8243 - accuracy: 0.7682 - val_loss: 0.9770 - val_accuracy: 0.7244\n",
      "Epoch 7/25\n",
      "1381/1381 [==============================] - 44s 32ms/step - loss: 0.8073 - accuracy: 0.7697 - val_loss: 0.8797 - val_accuracy: 0.7582\n",
      "Epoch 8/25\n",
      "1381/1381 [==============================] - 44s 32ms/step - loss: 0.7628 - accuracy: 0.7832 - val_loss: 1.0669 - val_accuracy: 0.7113\n",
      "Epoch 9/25\n",
      "1381/1381 [==============================] - 45s 33ms/step - loss: 0.8755 - accuracy: 0.7527 - val_loss: 0.8739 - val_accuracy: 0.7604\n",
      "Epoch 10/25\n",
      "1381/1381 [==============================] - 44s 32ms/step - loss: 0.7541 - accuracy: 0.7868 - val_loss: 0.9338 - val_accuracy: 0.7474\n",
      "Epoch 11/25\n",
      "1381/1381 [==============================] - 47s 34ms/step - loss: 0.7717 - accuracy: 0.7822 - val_loss: 0.9239 - val_accuracy: 0.7409\n",
      "Epoch 12/25\n",
      "1381/1381 [==============================] - 45s 32ms/step - loss: 0.7386 - accuracy: 0.7873 - val_loss: 0.8237 - val_accuracy: 0.7733\n",
      "Epoch 13/25\n",
      "1381/1381 [==============================] - 47s 34ms/step - loss: 0.6817 - accuracy: 0.8059 - val_loss: 0.8390 - val_accuracy: 0.7743\n",
      "Epoch 14/25\n",
      "1381/1381 [==============================] - 47s 34ms/step - loss: 0.7159 - accuracy: 0.7985 - val_loss: 1.0201 - val_accuracy: 0.7132\n",
      "Epoch 15/25\n",
      "1381/1381 [==============================] - 46s 33ms/step - loss: 0.6873 - accuracy: 0.8045 - val_loss: 0.7998 - val_accuracy: 0.7820\n",
      "Epoch 16/25\n",
      "1381/1381 [==============================] - 47s 34ms/step - loss: 0.6361 - accuracy: 0.8166 - val_loss: 0.8124 - val_accuracy: 0.7784\n",
      "Epoch 17/25\n",
      "1381/1381 [==============================] - 46s 33ms/step - loss: 0.6340 - accuracy: 0.8192 - val_loss: 0.7890 - val_accuracy: 0.7857\n",
      "Epoch 18/25\n",
      "1381/1381 [==============================] - 46s 33ms/step - loss: 0.6075 - accuracy: 0.8250 - val_loss: 0.8077 - val_accuracy: 0.7835\n",
      "Epoch 19/25\n",
      "1381/1381 [==============================] - 47s 34ms/step - loss: 0.6653 - accuracy: 0.8113 - val_loss: 1.1171 - val_accuracy: 0.6914\n",
      "Epoch 20/25\n",
      "1381/1381 [==============================] - 49s 35ms/step - loss: 0.8204 - accuracy: 0.7652 - val_loss: 0.9681 - val_accuracy: 0.7388\n",
      "Epoch 21/25\n",
      "1381/1381 [==============================] - 46s 33ms/step - loss: 0.6323 - accuracy: 0.8199 - val_loss: 0.7770 - val_accuracy: 0.7920\n",
      "Epoch 22/25\n",
      "1381/1381 [==============================] - 47s 34ms/step - loss: 0.6070 - accuracy: 0.8275 - val_loss: 0.7546 - val_accuracy: 0.7934\n",
      "Epoch 23/25\n",
      "1381/1381 [==============================] - 48s 35ms/step - loss: 0.7410 - accuracy: 0.7907 - val_loss: 0.9330 - val_accuracy: 0.7452\n",
      "Epoch 24/25\n",
      "1381/1381 [==============================] - 47s 34ms/step - loss: 0.7130 - accuracy: 0.7959 - val_loss: 0.8318 - val_accuracy: 0.7808\n",
      "Epoch 25/25\n",
      "1381/1381 [==============================] - 47s 34ms/step - loss: 0.5871 - accuracy: 0.8319 - val_loss: 0.7602 - val_accuracy: 0.7957\n"
     ]
    }
   ],
   "source": [
    "# fit the model\n",
    "history = model.fit(X_train, y_train, validation_split = 0.1, epochs=10, verbose=1)"
   ]
  },
  {
   "cell_type": "code",
   "execution_count": 145,
   "metadata": {},
   "outputs": [
    {
     "data": {
      "image/png": "[encoded data removed]",
      "text/plain": [
       "<Figure size 432x288 with 1 Axes>"
      ]
     },
     "metadata": {
      "needs_background": "light"
     },
     "output_type": "display_data"
    }
   ],
   "source": [
    "def plot_fit_history(history):\n",
    "    \"\"\" Plot graph of fitting history for the model \"\"\"\n",
    "    plt.plot(history.history['accuracy'])\n",
    "    plt.plot(history.history['val_accuracy'])\n",
    "    plt.title('model accuracy')\n",
    "    plt.ylabel('accuracy')\n",
    "    plt.xlabel('epoch')\n",
    "    plt.legend(['train', 'val'], loc='upper left')\n",
    "    plt.show()\n",
    "plot_fit_history(history)"
   ]
  },
  {
   "cell_type": "code",
   "execution_count": 280,
   "metadata": {
    "scrolled": true
   },
   "outputs": [
    {
     "name": "stdout",
     "output_type": "stream",
     "text": [
      "384/384 [==============================] - 5s 13ms/step - loss: 0.3285 - accuracy: 0.9201\n",
      "Accuracy: 75.013359\n"
     ]
    }
   ],
   "source": [
    "loss, accuracy = model.evaluate(X_test, y_test, verbose=1)\n",
    "print('Accuracy: %f' % (accuracy*100))"
   ]
  },
  {
   "cell_type": "markdown",
   "metadata": {},
   "source": [
    "## Test LSTM Model"
   ]
  },
  {
   "cell_type": "code",
   "execution_count": 226,
   "metadata": {},
   "outputs": [],
   "source": [
    "def make_lstm_classification_model(plot=False):\n",
    "    \"\"\" Create LSTM model \"\"\"\n",
    "    model = Sequential()\n",
    "    model.add(Embedding(embedding_matrix.shape[0], \n",
    "                    100, \n",
    "                    weights=[embedding_matrix], \n",
    "                    input_length=MAX_SEQUENCE_LENGTH, trainable=False))\n",
    "    model.add(Masking(mask_value=0.0)) # masking layer, masks any words that don't have an embedding as 0s.\n",
    "    model.add(LSTM(units=64, input_shape=(1, MAX_SEQUENCE_LENGTH)))\n",
    "    model.add(Dense(64))\n",
    "    model.add(Dense(31, activation='softmax'))\n",
    "    \n",
    "    # Compile the model\n",
    "    model.compile(\n",
    "    optimizer='adam', loss='categorical_crossentropy', metrics=['accuracy'])\n",
    "    # summarize the model\n",
    "    model.summary()\n",
    "    \n",
    "    if plot:\n",
    "        plot_model(model, to_file='model.png', show_shapes=True)\n",
    "    return model"
   ]
  },
  {
   "cell_type": "code",
   "execution_count": 267,
   "metadata": {},
   "outputs": [
    {
     "name": "stdout",
     "output_type": "stream",
     "text": [
      "Model: \"sequential_21\"\n",
      "_________________________________________________________________\n",
      "Layer (type)                 Output Shape              Param #   \n",
      "=================================================================\n",
      "embedding_60 (Embedding)     (None, 167, 100)          3673100   \n",
      "_________________________________________________________________\n",
      "masking_46 (Masking)         (None, 167, 100)          0         \n",
      "_________________________________________________________________\n",
      "lstm_7 (LSTM)                (None, 64)                42240     \n",
      "_________________________________________________________________\n",
      "dense_42 (Dense)             (None, 64)                4160      \n",
      "_________________________________________________________________\n",
      "dense_43 (Dense)             (None, 31)                2015      \n",
      "=================================================================\n",
      "Total params: 3,721,515\n",
      "Trainable params: 48,415\n",
      "Non-trainable params: 3,673,100\n",
      "_________________________________________________________________\n"
     ]
    }
   ],
   "source": [
    "model = make_lstm_classification_model()"
   ]
  },
  {
   "cell_type": "code",
   "execution_count": 268,
   "metadata": {},
   "outputs": [
    {
     "name": "stdout",
     "output_type": "stream",
     "text": [
      "Epoch 1/10\n",
      "1381/1381 [==============================] - 101s 70ms/step - loss: 1.9219 - accuracy: 0.4907 - val_loss: 0.8402 - val_accuracy: 0.7623\n",
      "Epoch 2/10\n",
      "1381/1381 [==============================] - 89s 64ms/step - loss: 0.7348 - accuracy: 0.7946 - val_loss: 0.5897 - val_accuracy: 0.8348\n",
      "Epoch 3/10\n",
      "1381/1381 [==============================] - 82s 59ms/step - loss: 0.5003 - accuracy: 0.8604 - val_loss: 0.4500 - val_accuracy: 0.8715\n",
      "Epoch 4/10\n",
      "1381/1381 [==============================] - 85s 61ms/step - loss: 0.3823 - accuracy: 0.8945 - val_loss: 0.3806 - val_accuracy: 0.8888\n",
      "Epoch 5/10\n",
      "1381/1381 [==============================] - 85s 62ms/step - loss: 0.3145 - accuracy: 0.9122 - val_loss: 0.4116 - val_accuracy: 0.8882\n",
      "Epoch 6/10\n",
      "1381/1381 [==============================] - 87s 63ms/step - loss: 0.2642 - accuracy: 0.9265 - val_loss: 0.3145 - val_accuracy: 0.9096\n",
      "Epoch 7/10\n",
      "1381/1381 [==============================] - 88s 63ms/step - loss: 0.2268 - accuracy: 0.9359 - val_loss: 0.3091 - val_accuracy: 0.9116\n",
      "Epoch 8/10\n",
      "1381/1381 [==============================] - 87s 63ms/step - loss: 0.1987 - accuracy: 0.9452 - val_loss: 0.3027 - val_accuracy: 0.9181\n",
      "Epoch 9/10\n",
      "1381/1381 [==============================] - 86s 62ms/step - loss: 0.1713 - accuracy: 0.9511 - val_loss: 0.2954 - val_accuracy: 0.9173\n",
      "Epoch 10/10\n",
      "1381/1381 [==============================] - 88s 64ms/step - loss: 0.1515 - accuracy: 0.9573 - val_loss: 0.3085 - val_accuracy: 0.9151\n"
     ]
    }
   ],
   "source": [
    "# fit the model\n",
    "history = model.fit(X_train, y_train,validation_split = 0.1, epochs=10, verbose=1)"
   ]
  },
  {
   "cell_type": "code",
   "execution_count": 269,
   "metadata": {},
   "outputs": [
    {
     "name": "stdout",
     "output_type": "stream",
     "text": [
      "384/384 [==============================] - 5s 12ms/step - loss: 0.3351 - accuracy: 0.9155\n",
      "Accuracy: 91.549182\n"
     ]
    }
   ],
   "source": [
    "loss, accuracy = model.evaluate(X_test, y_test, verbose=1)\n",
    "print('Accuracy: %f' % (accuracy*100))"
   ]
  },
  {
   "cell_type": "code",
   "execution_count": 229,
   "metadata": {
    "scrolled": true
   },
   "outputs": [
    {
     "data": {
      "image/png": "[encoded data removed]",
      "text/plain": [
       "<Figure size 432x288 with 1 Axes>"
      ]
     },
     "metadata": {
      "needs_background": "light"
     },
     "output_type": "display_data"
    }
   ],
   "source": [
    "plot_fit_history(history)"
   ]
  },
  {
   "cell_type": "markdown",
   "metadata": {},
   "source": [
    "### Use 5-fold Cross-Validation to test the performance of RNNs and LSTMs"
   ]
  },
  {
   "cell_type": "code",
   "execution_count": 270,
   "metadata": {},
   "outputs": [],
   "source": [
    "def stratified_test(splits = 5, model_type = \"RNN\"):\n",
    "    \"\"\" Create stratified tests, create and run models \"\"\"\n",
    "    skf = StratifiedKFold(n_splits = 5, random_state = 7, shuffle = True)\n",
    "    accuracy_train = []\n",
    "    accuracy_test = []\n",
    "    for train_index, test_index in skf.split(concatenated_padded_docs,list(data.label)):\n",
    "        X_train = np.array([concatenated_padded_docs[i] for i in train_index])\n",
    "        y_train = np.array([labels[i] for i in train_index])\n",
    "        X_test = np.array([concatenated_padded_docs[i] for i in test_index])\n",
    "        y_test = np.array([labels[i] for i in test_index])\n",
    "        if model_type == \"RNN\":\n",
    "            model = make_binary_classification_rnn_model()\n",
    "        else:\n",
    "            model = make_lstm_classification_model()\n",
    "        history = model.fit(X_train, y_train, epochs=10, verbose=0)\n",
    "        loss, accuracy = model.evaluate(X_test, y_test, verbose=0)\n",
    "        # Use training accuracy from last iteration for training\n",
    "        accuracy_train.append(history.history['accuracy'][-1]) \n",
    "        accuracy_test.append(accuracy)\n",
    "    train_avg = sum(accuracy_train)/len(accuracy_train)\n",
    "    test_avg = sum(accuracy_test)/len(accuracy_test)\n",
    "    print(\"The training accuracies for {} model are {}\\n\".format(model_type, accuracy_train))\n",
    "    print(\"The validation accuracies for {} model are {}\\n\".format(model_type, accuracy_test))\n",
    "    print(\"Average training accuracy is {} and average testing accuracy is {}\".format(train_avg, test_avg))"
   ]
  },
  {
   "cell_type": "code",
   "execution_count": 275,
   "metadata": {},
   "outputs": [
    {
     "name": "stdout",
     "output_type": "stream",
     "text": [
      "Model: \"sequential_36\"\n",
      "_________________________________________________________________\n",
      "Layer (type)                 Output Shape              Param #   \n",
      "=================================================================\n",
      "embedding_75 (Embedding)     (None, 167, 100)          3673100   \n",
      "_________________________________________________________________\n",
      "masking_61 (Masking)         (None, 167, 100)          0         \n",
      "_________________________________________________________________\n",
      "simple_rnn_46 (SimpleRNN)    (None, 64)                10560     \n",
      "_________________________________________________________________\n",
      "dense_72 (Dense)             (None, 64)                4160      \n",
      "_________________________________________________________________\n",
      "dense_73 (Dense)             (None, 31)                2015      \n",
      "=================================================================\n",
      "Total params: 3,689,835\n",
      "Trainable params: 16,735\n",
      "Non-trainable params: 3,673,100\n",
      "_________________________________________________________________\n",
      "Model: \"sequential_37\"\n",
      "_________________________________________________________________\n",
      "Layer (type)                 Output Shape              Param #   \n",
      "=================================================================\n",
      "embedding_76 (Embedding)     (None, 167, 100)          3673100   \n",
      "_________________________________________________________________\n",
      "masking_62 (Masking)         (None, 167, 100)          0         \n",
      "_________________________________________________________________\n",
      "simple_rnn_47 (SimpleRNN)    (None, 64)                10560     \n",
      "_________________________________________________________________\n",
      "dense_74 (Dense)             (None, 64)                4160      \n",
      "_________________________________________________________________\n",
      "dense_75 (Dense)             (None, 31)                2015      \n",
      "=================================================================\n",
      "Total params: 3,689,835\n",
      "Trainable params: 16,735\n",
      "Non-trainable params: 3,673,100\n",
      "_________________________________________________________________\n",
      "Model: \"sequential_38\"\n",
      "_________________________________________________________________\n",
      "Layer (type)                 Output Shape              Param #   \n",
      "=================================================================\n",
      "embedding_77 (Embedding)     (None, 167, 100)          3673100   \n",
      "_________________________________________________________________\n",
      "masking_63 (Masking)         (None, 167, 100)          0         \n",
      "_________________________________________________________________\n",
      "simple_rnn_48 (SimpleRNN)    (None, 64)                10560     \n",
      "_________________________________________________________________\n",
      "dense_76 (Dense)             (None, 64)                4160      \n",
      "_________________________________________________________________\n",
      "dense_77 (Dense)             (None, 31)                2015      \n",
      "=================================================================\n",
      "Total params: 3,689,835\n",
      "Trainable params: 16,735\n",
      "Non-trainable params: 3,673,100\n",
      "_________________________________________________________________\n",
      "Model: \"sequential_39\"\n",
      "_________________________________________________________________\n",
      "Layer (type)                 Output Shape              Param #   \n",
      "=================================================================\n",
      "embedding_78 (Embedding)     (None, 167, 100)          3673100   \n",
      "_________________________________________________________________\n",
      "masking_64 (Masking)         (None, 167, 100)          0         \n",
      "_________________________________________________________________\n",
      "simple_rnn_49 (SimpleRNN)    (None, 64)                10560     \n",
      "_________________________________________________________________\n",
      "dense_78 (Dense)             (None, 64)                4160      \n",
      "_________________________________________________________________\n",
      "dense_79 (Dense)             (None, 31)                2015      \n",
      "=================================================================\n",
      "Total params: 3,689,835\n",
      "Trainable params: 16,735\n",
      "Non-trainable params: 3,673,100\n",
      "_________________________________________________________________\n",
      "Model: \"sequential_40\"\n",
      "_________________________________________________________________\n",
      "Layer (type)                 Output Shape              Param #   \n",
      "=================================================================\n",
      "embedding_79 (Embedding)     (None, 167, 100)          3673100   \n",
      "_________________________________________________________________\n",
      "masking_65 (Masking)         (None, 167, 100)          0         \n",
      "_________________________________________________________________\n",
      "simple_rnn_50 (SimpleRNN)    (None, 64)                10560     \n",
      "_________________________________________________________________\n",
      "dense_80 (Dense)             (None, 64)                4160      \n",
      "_________________________________________________________________\n",
      "dense_81 (Dense)             (None, 31)                2015      \n",
      "=================================================================\n",
      "Total params: 3,689,835\n",
      "Trainable params: 16,735\n",
      "Non-trainable params: 3,673,100\n",
      "_________________________________________________________________\n",
      "The training accuracies for RNN model are [0.6602823704481124, 0.6291439235210419, 0.6550036668777466, 0.6634809613227844, 0.6322691828012467]\n",
      "\n",
      "The validation accuracies for RNN model are [0.7084997296333313, 0.7036101222038269, 0.6881265044212341, 0.5680873394012451, 0.6957052946090698]\n",
      "\n",
      "Average training accuracy is 0.6480360209941864 and average testing accuracy is 0.6728057980537414\n"
     ]
    }
   ],
   "source": [
    "stratified_test(5, \"RNN\")"
   ]
  },
  {
   "cell_type": "code",
   "execution_count": 274,
   "metadata": {},
   "outputs": [
    {
     "name": "stdout",
     "output_type": "stream",
     "text": [
      "Model: \"sequential_31\"\n",
      "_________________________________________________________________\n",
      "Layer (type)                 Output Shape              Param #   \n",
      "=================================================================\n",
      "embedding_70 (Embedding)     (None, 167, 100)          3673100   \n",
      "_________________________________________________________________\n",
      "masking_56 (Masking)         (None, 167, 100)          0         \n",
      "_________________________________________________________________\n",
      "lstm_12 (LSTM)               (None, 64)                42240     \n",
      "_________________________________________________________________\n",
      "dense_62 (Dense)             (None, 64)                4160      \n",
      "_________________________________________________________________\n",
      "dense_63 (Dense)             (None, 31)                2015      \n",
      "=================================================================\n",
      "Total params: 3,721,515\n",
      "Trainable params: 48,415\n",
      "Non-trainable params: 3,673,100\n",
      "_________________________________________________________________\n",
      "Model: \"sequential_32\"\n",
      "_________________________________________________________________\n",
      "Layer (type)                 Output Shape              Param #   \n",
      "=================================================================\n",
      "embedding_71 (Embedding)     (None, 167, 100)          3673100   \n",
      "_________________________________________________________________\n",
      "masking_57 (Masking)         (None, 167, 100)          0         \n",
      "_________________________________________________________________\n",
      "lstm_13 (LSTM)               (None, 64)                42240     \n",
      "_________________________________________________________________\n",
      "dense_64 (Dense)             (None, 64)                4160      \n",
      "_________________________________________________________________\n",
      "dense_65 (Dense)             (None, 31)                2015      \n",
      "=================================================================\n",
      "Total params: 3,721,515\n",
      "Trainable params: 48,415\n",
      "Non-trainable params: 3,673,100\n",
      "_________________________________________________________________\n",
      "Model: \"sequential_33\"\n",
      "_________________________________________________________________\n",
      "Layer (type)                 Output Shape              Param #   \n",
      "=================================================================\n",
      "embedding_72 (Embedding)     (None, 167, 100)          3673100   \n",
      "_________________________________________________________________\n",
      "masking_58 (Masking)         (None, 167, 100)          0         \n",
      "_________________________________________________________________\n",
      "lstm_14 (LSTM)               (None, 64)                42240     \n",
      "_________________________________________________________________\n",
      "dense_66 (Dense)             (None, 64)                4160      \n",
      "_________________________________________________________________\n",
      "dense_67 (Dense)             (None, 31)                2015      \n",
      "=================================================================\n",
      "Total params: 3,721,515\n",
      "Trainable params: 48,415\n",
      "Non-trainable params: 3,673,100\n",
      "_________________________________________________________________\n",
      "Model: \"sequential_34\"\n",
      "_________________________________________________________________\n",
      "Layer (type)                 Output Shape              Param #   \n",
      "=================================================================\n",
      "embedding_73 (Embedding)     (None, 167, 100)          3673100   \n",
      "_________________________________________________________________\n",
      "masking_59 (Masking)         (None, 167, 100)          0         \n",
      "_________________________________________________________________\n",
      "lstm_15 (LSTM)               (None, 64)                42240     \n",
      "_________________________________________________________________\n",
      "dense_68 (Dense)             (None, 64)                4160      \n",
      "_________________________________________________________________\n",
      "dense_69 (Dense)             (None, 31)                2015      \n",
      "=================================================================\n",
      "Total params: 3,721,515\n",
      "Trainable params: 48,415\n",
      "Non-trainable params: 3,673,100\n",
      "_________________________________________________________________\n",
      "Model: \"sequential_35\"\n",
      "_________________________________________________________________\n",
      "Layer (type)                 Output Shape              Param #   \n",
      "=================================================================\n",
      "embedding_74 (Embedding)     (None, 167, 100)          3673100   \n",
      "_________________________________________________________________\n",
      "masking_60 (Masking)         (None, 167, 100)          0         \n",
      "_________________________________________________________________\n",
      "lstm_16 (LSTM)               (None, 64)                42240     \n",
      "_________________________________________________________________\n",
      "dense_70 (Dense)             (None, 64)                4160      \n",
      "_________________________________________________________________\n",
      "dense_71 (Dense)             (None, 31)                2015      \n",
      "=================================================================\n",
      "Total params: 3,721,515\n",
      "Trainable params: 48,415\n",
      "Non-trainable params: 3,673,100\n",
      "_________________________________________________________________\n",
      "The training accuracies for LSTM model are [0.8896198332309723, 0.8886011779308319, 0.8897522568702698, 0.8889984488487244, 0.8902371406555176]\n",
      "\n",
      "The validation accuracies for LSTM model are [0.9253524541854858, 0.9271453022956848, 0.9212778210639954, 0.9255969524383545, 0.926085889339447]\n",
      "\n",
      "Average training accuracy is 0.8894417715072631 and average testing accuracy is 0.9250916838645935\n"
     ]
    }
   ],
   "source": [
    "stratified_test(5, \"LSTM\")"
   ]
  }
 ],
 "metadata": {
  "kernelspec": {
   "display_name": "Python 3",
   "language": "python",
   "name": "python3"
  },
  "language_info": {
   "codemirror_mode": {
    "name": "ipython",
    "version": 3
   },
   "file_extension": ".py",
   "mimetype": "text/x-python",
   "name": "python",
   "nbconvert_exporter": "python",
   "pygments_lexer": "ipython3",
   "version": "3.7.6"
  }
 },
 "nbformat": 4,
 "nbformat_minor": 4
}
